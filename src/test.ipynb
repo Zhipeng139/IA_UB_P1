{
 "cells": [
  {
   "cell_type": "code",
   "execution_count": 3,
   "metadata": {},
   "outputs": [
    {
     "name": "stdout",
     "output_type": "stream",
     "text": [
      "asdsadasdsa\n"
     ]
    }
   ],
   "source": [
    "c = [{(0,0,2),(2,4,6)},{(0,1,2),(2,4,6)},{(0,2,2),(2,4,6)},{(0,3,2),(2,4,6)},{(0,5,2),(2,4,6)},{(0,6,2),(2,4,6)},{(0,7,2),(2,4,6)}]\n",
    "\n",
    "if {(2,4,6),(0,0,2)} in c:\n",
    "    print('asdsadasdsa')"
   ]
  },
  {
   "cell_type": "code",
   "execution_count": null,
   "metadata": {},
   "outputs": [],
   "source": [
    "print(frozenset({(0,0,2),(2,4,6)}))"
   ]
  }
 ],
 "metadata": {
  "kernelspec": {
   "display_name": "Python 3.10.5 64-bit",
   "language": "python",
   "name": "python3"
  },
  "language_info": {
   "codemirror_mode": {
    "name": "ipython",
    "version": 3
   },
   "file_extension": ".py",
   "mimetype": "text/x-python",
   "name": "python",
   "nbconvert_exporter": "python",
   "pygments_lexer": "ipython3",
   "version": "3.10.5"
  },
  "orig_nbformat": 4,
  "vscode": {
   "interpreter": {
    "hash": "1d2d095a1521ae803c9672f26e7f8c4aceb0fd2d489d84364745d860468f80ec"
   }
  }
 },
 "nbformat": 4,
 "nbformat_minor": 2
}
