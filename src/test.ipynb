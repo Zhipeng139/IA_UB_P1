{
 "cells": [
  {
   "cell_type": "code",
   "execution_count": 3,
   "metadata": {},
   "outputs": [
    {
     "name": "stdout",
     "output_type": "stream",
     "text": [
      "asdsadasdsa\n"
     ]
    }
   ],
   "source": [
    "c = [{(0,0,2),(2,4,6)},{(0,1,2),(2,4,6)},{(0,2,2),(2,4,6)},{(0,3,2),(2,4,6)},{(0,5,2),(2,4,6)},{(0,6,2),(2,4,6)},{(0,7,2),(2,4,6)}]\n",
    "\n",
    "if {(2,4,6),(0,0,2)} in c:\n",
    "    print('asdsadasdsa')"
   ]
  },
  {
   "cell_type": "code",
   "execution_count": 15,
   "metadata": {},
   "outputs": [
    {
     "name": "stdout",
     "output_type": "stream",
     "text": [
      "[(2, 4, 6), (0, 0, 2)]\n"
     ]
    }
   ],
   "source": [
    "print(list(frozenset(((0,0,2),(2,4,6)))))"
   ]
  },
  {
   "cell_type": "code",
   "execution_count": null,
   "metadata": {},
   "outputs": [],
   "source": [
    "    def BreadthFirstSearch(self, currentState, depth=0):\n",
    "\n",
    "        # Your Code here\n",
    "        set_state = self.to_set(currentState)\n",
    "\n",
    "        parent = defaultdict()\n",
    "        q = queue.Queue()\n",
    "\n",
    "        q.put((set_state, depth))\n",
    "        parent[frozenset(set_state)] = None\n",
    "\n",
    "        firstMove = True\n",
    "        self.listVisitedStates.append(set_state)\n",
    "\n",
    "        while not q.empty():\n",
    "            set_state, depth = q.get()\n",
    "\n",
    "            if firstMove:\n",
    "               list_of_states = self.getListNextStatesW(self.to_list(set_state))\n",
    "               firstMove = False\n",
    "            else:\n",
    "                self.do_movement(currentState, self.to_list(set_state))\n",
    "                list_of_states = self.getListNextStatesW(self.to_list(set_state))\n",
    "                self.do_movement(self.to_list(set_state),currentState)\n",
    "\n",
    "            for state in list_of_states:\n",
    "                loop_set_state = self.to_set(state)\n",
    "                if depth == 8:\n",
    "                    continue\n",
    "                if loop_set_state not in self.listVisitedStates:\n",
    "                    self.listVisitedStates.append(loop_set_state)\n",
    "                    self.isCheckMate(loop_set_state)\n",
    "                    if self.checkMate:\n",
    "                        print('haisdjsiajdisajdi')\n",
    "                        return                    \n",
    "                    q.put((loop_set_state, depth+1))\n",
    "                    parent[frozenset(loop_set_state)] = set_state"
   ]
  },
  {
   "cell_type": "code",
   "execution_count": 18,
   "metadata": {},
   "outputs": [
    {
     "name": "stdout",
     "output_type": "stream",
     "text": [
      "asdsad\n",
      "asdsad\n",
      "123123\n",
      "asdsad\n",
      "asdsad\n",
      "asdsad\n",
      "asdsad\n",
      "asdsad\n",
      "asdsad\n",
      "asdsad\n"
     ]
    }
   ],
   "source": [
    "for i in range(10):\n",
    "    if i == 2:\n",
    "        print('123123')\n",
    "        continue\n",
    "    else:\n",
    "        print('asdsad')"
   ]
  }
 ],
 "metadata": {
  "kernelspec": {
   "display_name": "Python 3.10.5 64-bit",
   "language": "python",
   "name": "python3"
  },
  "language_info": {
   "codemirror_mode": {
    "name": "ipython",
    "version": 3
   },
   "file_extension": ".py",
   "mimetype": "text/x-python",
   "name": "python",
   "nbconvert_exporter": "python",
   "pygments_lexer": "ipython3",
   "version": "3.10.5"
  },
  "orig_nbformat": 4,
  "vscode": {
   "interpreter": {
    "hash": "1d2d095a1521ae803c9672f26e7f8c4aceb0fd2d489d84364745d860468f80ec"
   }
  }
 },
 "nbformat": 4,
 "nbformat_minor": 2
}
